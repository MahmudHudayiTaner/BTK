{
 "cells": [
  {
   "cell_type": "code",
   "execution_count": 1,
   "id": "9d695cb5-c33b-47af-8248-aa7286d2f08c",
   "metadata": {},
   "outputs": [],
   "source": [
    "import numpy as np"
   ]
  },
  {
   "cell_type": "code",
   "execution_count": 3,
   "id": "abae2776-216c-4f6f-8c51-55bb7918e29e",
   "metadata": {},
   "outputs": [],
   "source": [
    "import pandas as pd"
   ]
  },
  {
   "cell_type": "markdown",
   "id": "7914c866-49c4-4493-9017-a9f7aa62a481",
   "metadata": {},
   "source": [
    "## series / seriler"
   ]
  },
  {
   "cell_type": "code",
   "execution_count": 8,
   "id": "362118ef-9a0a-43a8-8955-296c7de2675e",
   "metadata": {},
   "outputs": [],
   "source": [
    "benimSozlugum = {\"Atil\" : 50, \"Zeynep\": 40, \"Mehmet\": 30}\n"
   ]
  },
  {
   "cell_type": "code",
   "execution_count": 10,
   "id": "85d31678-fe24-4990-b510-ceff6b49ec0e",
   "metadata": {},
   "outputs": [
    {
     "data": {
      "text/plain": [
       "Atil      50\n",
       "Zeynep    40\n",
       "Mehmet    30\n",
       "dtype: int64"
      ]
     },
     "execution_count": 10,
     "metadata": {},
     "output_type": "execute_result"
    }
   ],
   "source": [
    "pd.Series(benimSozlugum)"
   ]
  },
  {
   "cell_type": "code",
   "execution_count": 12,
   "id": "cdb21964-1f26-4793-9056-5b2ebccf9758",
   "metadata": {},
   "outputs": [],
   "source": [
    "benimYaslarim = [50,40,30]\n",
    "benimIsimlerim = [\"Atil\",\"Zeynep\",\"Mehmet\"]"
   ]
  },
  {
   "cell_type": "code",
   "execution_count": 14,
   "id": "7ebf3809-e9fb-437b-841e-78aae16bd5d0",
   "metadata": {},
   "outputs": [
    {
     "data": {
      "text/plain": [
       "0    50\n",
       "1    40\n",
       "2    30\n",
       "dtype: int64"
      ]
     },
     "execution_count": 14,
     "metadata": {},
     "output_type": "execute_result"
    }
   ],
   "source": [
    "pd.Series(benimYaslarim)"
   ]
  },
  {
   "cell_type": "code",
   "execution_count": 16,
   "id": "f2616320-4266-40a3-ba43-31203c36bbe4",
   "metadata": {},
   "outputs": [
    {
     "data": {
      "text/plain": [
       "Atil      50\n",
       "Zeynep    40\n",
       "Mehmet    30\n",
       "dtype: int64"
      ]
     },
     "execution_count": 16,
     "metadata": {},
     "output_type": "execute_result"
    }
   ],
   "source": [
    "pd.Series(benimYaslarim,benimIsimlerim)"
   ]
  },
  {
   "cell_type": "code",
   "execution_count": 18,
   "id": "ae720805-bf0c-4fe1-8b46-0c0ebb856e52",
   "metadata": {},
   "outputs": [
    {
     "data": {
      "text/plain": [
       "Atil      50\n",
       "Zeynep    40\n",
       "Mehmet    30\n",
       "dtype: int64"
      ]
     },
     "execution_count": 18,
     "metadata": {},
     "output_type": "execute_result"
    }
   ],
   "source": [
    "pd.Series(data=benimYaslarim, index = benimIsimlerim)"
   ]
  },
  {
   "cell_type": "code",
   "execution_count": 20,
   "id": "419bde76-4ae7-4433-9900-378a0889549d",
   "metadata": {},
   "outputs": [],
   "source": [
    "numpyDizisi = np.array([50,40,30])"
   ]
  },
  {
   "cell_type": "code",
   "execution_count": 22,
   "id": "cf628385-e53e-473f-bcea-0fffe0e5525b",
   "metadata": {},
   "outputs": [
    {
     "data": {
      "text/plain": [
       "array([50, 40, 30])"
      ]
     },
     "execution_count": 22,
     "metadata": {},
     "output_type": "execute_result"
    }
   ],
   "source": [
    "numpyDizisi"
   ]
  },
  {
   "cell_type": "code",
   "execution_count": 24,
   "id": "1744f66b-1039-44a5-987e-ad52975237e1",
   "metadata": {},
   "outputs": [
    {
     "data": {
      "text/plain": [
       "0    50\n",
       "1    40\n",
       "2    30\n",
       "dtype: int64"
      ]
     },
     "execution_count": 24,
     "metadata": {},
     "output_type": "execute_result"
    }
   ],
   "source": [
    "pd.Series(numpyDizisi)"
   ]
  },
  {
   "cell_type": "code",
   "execution_count": 32,
   "id": "d69049f7-6c39-4bf9-9a74-96af5a278f87",
   "metadata": {},
   "outputs": [
    {
     "data": {
      "text/plain": [
       "Atil      50\n",
       "Zeynep    40\n",
       "Mehmet    30\n",
       "dtype: int64"
      ]
     },
     "execution_count": 32,
     "metadata": {},
     "output_type": "execute_result"
    }
   ],
   "source": [
    "pd.Series(numpyDizisi,benimIsimlerim) ## index string"
   ]
  },
  {
   "cell_type": "code",
   "execution_count": 34,
   "id": "674055d7-1974-4475-8ce4-3f2aed69d6a6",
   "metadata": {},
   "outputs": [
    {
     "data": {
      "text/plain": [
       "1     Atil\n",
       "2    Atlas\n",
       "3    Osman\n",
       "dtype: object"
      ]
     },
     "execution_count": 34,
     "metadata": {},
     "output_type": "execute_result"
    }
   ],
   "source": [
    "pd.Series([\"Atil\",\"Atlas\",\"Osman\"],(1,2,3)) ## index int"
   ]
  },
  {
   "cell_type": "code",
   "execution_count": 36,
   "id": "3f8755dc-db0f-49b6-9b92-fe7dd8abe0b6",
   "metadata": {},
   "outputs": [],
   "source": [
    "yarismaSonucu1 = pd.Series([10,5,1],[\"Atil\",\"Atlas\",\"Osman\"])"
   ]
  },
  {
   "cell_type": "code",
   "execution_count": 38,
   "id": "3734d16e-ad58-4cf3-9f79-5d666d03bdf1",
   "metadata": {},
   "outputs": [
    {
     "data": {
      "text/plain": [
       "Atil     10\n",
       "Atlas     5\n",
       "Osman     1\n",
       "dtype: int64"
      ]
     },
     "execution_count": 38,
     "metadata": {},
     "output_type": "execute_result"
    }
   ],
   "source": [
    "yarismaSonucu1"
   ]
  },
  {
   "cell_type": "code",
   "execution_count": 40,
   "id": "421ced9c-492b-4a28-bb50-68a108e33a22",
   "metadata": {},
   "outputs": [],
   "source": [
    "yarismaSonucu2 = pd.Series([20,10,8],[\"Atil\",\"Atlas\",\"Osman\"])"
   ]
  },
  {
   "cell_type": "code",
   "execution_count": 42,
   "id": "b39b6454-b786-46df-8ec3-ba8c5e5297ea",
   "metadata": {},
   "outputs": [
    {
     "data": {
      "text/plain": [
       "Atil     20\n",
       "Atlas    10\n",
       "Osman     8\n",
       "dtype: int64"
      ]
     },
     "execution_count": 42,
     "metadata": {},
     "output_type": "execute_result"
    }
   ],
   "source": [
    "yarismaSonucu2"
   ]
  },
  {
   "cell_type": "code",
   "execution_count": 44,
   "id": "cae56e9d-a1e1-4436-88ec-4627e9f97e65",
   "metadata": {},
   "outputs": [
    {
     "data": {
      "text/plain": [
       "10"
      ]
     },
     "execution_count": 44,
     "metadata": {},
     "output_type": "execute_result"
    }
   ],
   "source": [
    "yarismaSonucu2[\"Atlas\"]"
   ]
  },
  {
   "cell_type": "code",
   "execution_count": 46,
   "id": "650e87a2-59d1-45e5-9579-6a7ae1161fe8",
   "metadata": {},
   "outputs": [],
   "source": [
    "sonSonuc = yarismaSonucu1 + yarismaSonucu2"
   ]
  },
  {
   "cell_type": "code",
   "execution_count": 48,
   "id": "ab748bee-4a09-4345-afff-5394cf767ba9",
   "metadata": {},
   "outputs": [
    {
     "data": {
      "text/plain": [
       "Atil     30\n",
       "Atlas    15\n",
       "Osman     9\n",
       "dtype: int64"
      ]
     },
     "execution_count": 48,
     "metadata": {},
     "output_type": "execute_result"
    }
   ],
   "source": [
    "sonSonuc"
   ]
  },
  {
   "cell_type": "code",
   "execution_count": 64,
   "id": "6f48845b-f31b-4265-9638-c9dbaff38aa5",
   "metadata": {},
   "outputs": [],
   "source": [
    "farkliSeri1 = pd.Series([20,30,40,50,60],[\"a\",\"b\",\"c\",\"d\",\"e\"])"
   ]
  },
  {
   "cell_type": "code",
   "execution_count": 66,
   "id": "6b84a03c-2e6e-4ead-b9d0-f8e67d2a0e1f",
   "metadata": {},
   "outputs": [],
   "source": [
    "farkliSeri2 = pd.Series([10,5,3,1],[\"a\",\"c\",\"f\",\"g\"])"
   ]
  },
  {
   "cell_type": "code",
   "execution_count": 68,
   "id": "a1f2296f-1f1a-4e35-ba8e-0adff44622de",
   "metadata": {},
   "outputs": [
    {
     "data": {
      "text/plain": [
       "a    20\n",
       "b    30\n",
       "c    40\n",
       "d    50\n",
       "e    60\n",
       "dtype: int64"
      ]
     },
     "execution_count": 68,
     "metadata": {},
     "output_type": "execute_result"
    }
   ],
   "source": [
    "farkliSeri1"
   ]
  },
  {
   "cell_type": "code",
   "execution_count": 70,
   "id": "87188aab-0064-4f71-9e07-18e1c67b689e",
   "metadata": {},
   "outputs": [
    {
     "data": {
      "text/plain": [
       "a    10\n",
       "c     5\n",
       "f     3\n",
       "g     1\n",
       "dtype: int64"
      ]
     },
     "execution_count": 70,
     "metadata": {},
     "output_type": "execute_result"
    }
   ],
   "source": [
    "farkliSeri2"
   ]
  },
  {
   "cell_type": "code",
   "execution_count": 72,
   "id": "7e0e9d33-447c-487e-8112-e59909a0ba10",
   "metadata": {},
   "outputs": [],
   "source": [
    "farkliSeri = farkliSeri1 + farkliSeri2"
   ]
  },
  {
   "cell_type": "code",
   "execution_count": 74,
   "id": "f722bdfc-0801-4ae4-9c1d-2cbc5c0218cc",
   "metadata": {},
   "outputs": [
    {
     "data": {
      "text/plain": [
       "a    30.0\n",
       "b     NaN\n",
       "c    45.0\n",
       "d     NaN\n",
       "e     NaN\n",
       "f     NaN\n",
       "g     NaN\n",
       "dtype: float64"
      ]
     },
     "execution_count": 74,
     "metadata": {},
     "output_type": "execute_result"
    }
   ],
   "source": [
    "farkliSeri"
   ]
  },
  {
   "cell_type": "code",
   "execution_count": null,
   "id": "3910a54b-490f-4352-8708-2bc355b9a409",
   "metadata": {},
   "outputs": [],
   "source": []
  }
 ],
 "metadata": {
  "kernelspec": {
   "display_name": "Python 3 (ipykernel)",
   "language": "python",
   "name": "python3"
  },
  "language_info": {
   "codemirror_mode": {
    "name": "ipython",
    "version": 3
   },
   "file_extension": ".py",
   "mimetype": "text/x-python",
   "name": "python",
   "nbconvert_exporter": "python",
   "pygments_lexer": "ipython3",
   "version": "3.12.7"
  }
 },
 "nbformat": 4,
 "nbformat_minor": 5
}
